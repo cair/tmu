{
 "cells": [
  {
   "cell_type": "code",
   "execution_count": null,
   "metadata": {
    "collapsed": true,
    "pycharm": {
     "is_executing": true
    }
   },
   "outputs": [],
   "source": [
    "import numpy as np\n",
    "!pip install networkx\n",
    "!pip install matplotlib\n",
    "!pip install pygraphviz"
   ]
  },
  {
   "cell_type": "markdown",
   "source": [
    "# The COMA dataset\n"
   ],
   "metadata": {
    "collapsed": false
   }
  },
  {
   "cell_type": "code",
   "execution_count": 2,
   "outputs": [],
   "source": [
    "import networkx as nx\n",
    "import matplotlib as plt"
   ],
   "metadata": {
    "collapsed": false
   }
  },
  {
   "cell_type": "code",
   "execution_count": 3,
   "outputs": [
    {
     "data": {
      "text/plain": "<Figure size 640x480 with 1 Axes>",
      "image/png": "[encoded data removed]"
     },
     "metadata": {},
     "output_type": "display_data"
    }
   ],
   "source": [
    "labels = {\n",
    "    0: \"MetastCancer\",\n",
    "    1: \"IncrSerCal\",\n",
    "    2: \"BrainTumor\",\n",
    "    3: \"Coma\",\n",
    "    4: \"SevHeadaches\"\n",
    "}\n",
    "labels_reverse = {v: k for k, v in labels.items()}\n",
    "\n",
    "edges = [\n",
    "    (0, 1),\n",
    "    (0, 2),\n",
    "    (1, 3),\n",
    "    (2, 3),\n",
    "    (2, 4),\n",
    "]\n",
    "\n",
    "\n",
    "\n",
    "G = nx.DiGraph()\n",
    "G.add_nodes_from(labels)\n",
    "G.add_edges_from(edges)\n",
    "\n",
    "\n",
    "pos = nx.nx_agraph.graphviz_layout(G, prog=\"dot\")\n",
    "nx.draw_networkx(\n",
    "    G,\n",
    "    pos = pos,\n",
    "    node_shape = \"o\",\n",
    "    labels = labels,\n",
    "    arrows = True,\n",
    "    node_color = \"white\"\n",
    ")\n"
   ],
   "metadata": {
    "collapsed": false
   }
  },
  {
   "cell_type": "code",
   "execution_count": 4,
   "outputs": [],
   "source": [
    "def get_boundary(target_name, lbls, lrev, graph):\n",
    "    target_id = lrev[target_name]\n",
    "\n",
    "    parents = list(graph.predecessors(target_id))\n",
    "    children = list(graph.successors(target_id))\n",
    "    children_parents = []\n",
    "    for child in children:\n",
    "        children_parents.extend(list(G.predecessors(child)))\n",
    "\n",
    "    # calculate the Markov blanket of the node\n",
    "    markov_blanket = set(parents + children + children_parents)\n",
    "    markov_blanket_l = [lbls[x] for x in markov_blanket]\n",
    "    return markov_blanket_l\n",
    "\n",
    "target_boundary = get_boundary(\"Coma\", labels, labels_reverse, G)"
   ],
   "metadata": {
    "collapsed": false
   }
  },
  {
   "cell_type": "code",
   "execution_count": 91,
   "outputs": [],
   "source": [
    "import argparse\n",
    "parser = argparse.ArgumentParser()\n",
    "parser.add_argument(\"--num_clauses\", default=10, type=int)\n",
    "parser.add_argument(\"--T\", default=10, type=int)\n",
    "parser.add_argument(\"--s\", default=10.0, type=float)\n",
    "parser.add_argument(\"--max_included_literals\", default=32, type=int)\n",
    "parser.add_argument(\"--device\", default=\"CPU\", type=str)\n",
    "parser.add_argument(\"--weighted_clauses\", default=True, type=bool)\n",
    "parser.add_argument(\"--epochs\", default=1000, type=int)\n",
    "parser.add_argument(\"--number-of-state-bits-ta\", default=8, type=int)\n",
    "parser.add_argument(\"--number-of-state-bits-ind\", default=8, type=int)\n",
    "\n",
    "args = parser.parse_args(\"\")\n"
   ],
   "metadata": {
    "collapsed": false
   }
  },
  {
   "cell_type": "code",
   "execution_count": 91,
   "outputs": [],
   "source": [],
   "metadata": {
    "collapsed": false
   }
  },
  {
   "cell_type": "code",
   "execution_count": 92,
   "outputs": [
    {
     "name": "stdout",
     "output_type": "stream",
     "text": [
      "2023-02-09 01:06:37,521 - tmu.data - DEBUG - Found config directory at: data. Release File: data/releases.json\n",
      "2023-02-09 01:06:37,522 - tmu.data - DEBUG - Release file exists=True\n",
      "2023-02-09 01:06:37,523 - tmu.data - DEBUG - Release file age: 10.39100253979365 minutes\n",
      "2023-02-09 01:06:37,523 - tmu.data - DEBUG - Cache is out of date..\n",
      "2023-02-09 01:06:37,922 - tmu.data - DEBUG - Writing release data to data/releases.json\n",
      "2023-02-09 01:06:37,923 - tmu.data - DEBUG - Dataset directory data/2023.02.04 already exists.\n"
     ]
    }
   ],
   "source": [
    "from tmu.data import TMUDatasetSource\n",
    "\n",
    "FEATURES = [\"MetastCancer\", \"IncrSerCal\", \"BrainTumor\", \"SevHeadaches\"]\n",
    "TARGET = [\"Coma\"]\n",
    "\n",
    "data = TMUDatasetSource().get_dataset(\n",
    "    \"Coma\",\n",
    "    cache=True,\n",
    "    cache_max_age=1,\n",
    "    cache_dir=\"data\",\n",
    "    features=FEATURES,\n",
    "    labels=TARGET,\n",
    "    shuffle=True,\n",
    "    train_ratio=1000,\n",
    "    test_ratio=1000,\n",
    "    return_type=dict\n",
    ")"
   ],
   "metadata": {
    "collapsed": false
   }
  },
  {
   "cell_type": "code",
   "execution_count": 93,
   "outputs": [
    {
     "name": "stdout",
     "output_type": "stream",
     "text": [
      "2023-02-09 01:06:39,960 - __main__ - INFO - Running <class 'tmu.models.classification.vanilla_classifier.TMClassifier'> for 1000\n"
     ]
    },
    {
     "name": "stderr",
     "output_type": "stream",
     "text": [
      "  0%|          | 0/1000 [00:00<?, ?it/s]"
     ]
    },
    {
     "name": "stdout",
     "output_type": "stream",
     "text": [
      "2023-02-09 01:06:39,961 - tmu.models.classification.vanilla_classifier - DEBUG - Initializing clause bank....\n"
     ]
    },
    {
     "name": "stderr",
     "output_type": "stream",
     "text": [
      "Accuracy: 81: 100%|██████████| 1000/1000 [02:40<00:00,  6.22it/s]\n"
     ]
    }
   ],
   "source": [
    "from tools import BenchmarkTimer\n",
    "from tmu.models.classification.vanilla_classifier import TMClassifier\n",
    "import logging\n",
    "from tqdm import tqdm\n",
    "\n",
    "_LOGGER = logging.getLogger(__name__)\n",
    "\n",
    "\n",
    "tm = TMClassifier(\n",
    "    number_of_clauses=args.num_clauses,\n",
    "    T=args.T,\n",
    "    s=args.s,\n",
    "    max_included_literals=args.max_included_literals,\n",
    "    number_of_state_bits_ta=args.number_of_state_bits_ta,\n",
    "    number_of_state_bits_ind=args.number_of_state_bits_ind,\n",
    "    platform=args.device,\n",
    "    weighted_clauses=args.weighted_clauses,\n",
    "    type_iii_feedback=True\n",
    ")\n",
    "\n",
    "\n",
    "_LOGGER.info(f\"Running {TMClassifier} for {args.epochs}\")\n",
    "tq = tqdm(range(args.epochs))\n",
    "for epoch in tq:\n",
    "\n",
    "    tm.fit(data[\"x_train\"], data[\"y_train\"])\n",
    "    result = 100 * (tm.predict(data[\"x_test\"]) == data[\"y_test\"]).mean()\n",
    "\n",
    "    tq.set_description(f\"Accuracy: {round(result)}\")\n",
    "\n",
    "    #_LOGGER.info(f\"Epoch: {epoch + 1}, Accuracy: {result:.2f}, Training Time: {benchmark1.elapsed():.2f}s, \"\n",
    "    #             f\"Testing Time: {benchmark2.elapsed():.2f}s\")\n",
    "\n"
   ],
   "metadata": {
    "collapsed": false
   }
  },
  {
   "cell_type": "code",
   "execution_count": 93,
   "outputs": [],
   "source": [],
   "metadata": {
    "collapsed": false
   }
  },
  {
   "cell_type": "code",
   "execution_count": 95,
   "outputs": [
    {
     "name": "stdout",
     "output_type": "stream",
     "text": [
      "[('MetastCancer', 9), ('IncrSerCal', 19), ('BrainTumor', 15), ('SevHeadaches', 18)]\n",
      "2023-02-09 01:09:37,297 - __main__ - INFO - Inclusion:\t['IncrSerCal', 'SevHeadaches']\n",
      "2023-02-09 01:09:37,298 - __main__ - INFO - Exclusion:\t['BrainTumor', 'IncrSerCal']\n",
      "2023-02-09 01:09:37,298 - __main__ - INFO - Target:\t\t['BrainTumor', 'IncrSerCal']\n",
      "2023-02-09 01:09:37,298 - __main__ - INFO - -------------------------\n",
      "2023-02-09 01:09:37,299 - __main__ - INFO - 0 = Inclusion, 1 = Exclusion\n",
      "   MetastCancer  IncrSerCal  BrainTumor  SevHeadaches\n",
      "0             4           9           1            10\n",
      "1             5          10          14             8\n"
     ]
    }
   ],
   "source": [
    "import pandas as pd\n",
    "LITERAL_TYPES = [\"Inclusion\", \"Exclusion\"]\n",
    "literal_freq = tm.literal_clause_frequency()\n",
    "\n",
    "literal_combined_sum = np.stack(np.split(literal_freq, 2)).sum(axis=0)\n",
    "\n",
    "weighted_literal_combined_sum = [(FEATURES[i], item) for i, item in enumerate(literal_combined_sum)]\n",
    "\n",
    "print(weighted_literal_combined_sum)\n",
    "\n",
    "\n",
    "df = pd.DataFrame(\n",
    "    columns=FEATURES,\n",
    "    data=np.split(literal_freq, 2)\n",
    ")\n",
    "\n",
    "# Find the two highest values in each row. exclude 0\n",
    "result = df.apply(lambda x: x[x != 0].nlargest(len(target_boundary)).index.tolist(), axis=1)\n",
    "\n",
    "for i, item in enumerate(result):\n",
    "    _LOGGER.info(f\"{LITERAL_TYPES[i]}:\\t{sorted(item)}\")\n",
    "_LOGGER.info(f\"Target:\\t\\t{sorted(target_boundary)}\")\n",
    "\n",
    "_LOGGER.info(\"-------------------------\")\n",
    "_LOGGER.info(\"0 = Inclusion, 1 = Exclusion\")\n",
    "print(df)"
   ],
   "metadata": {
    "collapsed": false
   }
  },
  {
   "cell_type": "code",
   "execution_count": 33,
   "outputs": [],
   "source": [
    "\n"
   ],
   "metadata": {
    "collapsed": false
   }
  },
  {
   "cell_type": "code",
   "execution_count": 9,
   "outputs": [],
   "source": [],
   "metadata": {
    "collapsed": false
   }
  }
 ],
 "metadata": {
  "kernelspec": {
   "display_name": "Python 3",
   "language": "python",
   "name": "python3"
  },
  "language_info": {
   "codemirror_mode": {
    "name": "ipython",
    "version": 2
   },
   "file_extension": ".py",
   "mimetype": "text/x-python",
   "name": "python",
   "nbconvert_exporter": "python",
   "pygments_lexer": "ipython2",
   "version": "2.7.6"
  }
 },
 "nbformat": 4,
 "nbformat_minor": 0
}
